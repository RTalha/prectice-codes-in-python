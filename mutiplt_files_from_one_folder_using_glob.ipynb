{
 "cells": [
  {
   "cell_type": "code",
   "execution_count": 21,
   "metadata": {},
   "outputs": [],
   "source": [
    "def getshape(path):\n",
    "    import cv2\n",
    "    pwd=os.getcwd()\n",
    "    img=cv2.imread(pwd+path[0:-3]+\"jpg\")\n",
    "    if img is None:\n",
    "        return -1,-1\n",
    "    return img.shape[0:2]\n",
    "\n",
    "def bboxYoloToCoco(x1,y1,x2,y2,string):\n",
    "    height,width=getshape(string)\n",
    "    if height==-1:\n",
    "        return -1,-1,-1,-1\n",
    "    x1,y1,x2,y2=float(x1),float(y1),float(x2),float(y2)\n",
    "    x2=x2*width\n",
    "    y2=y2*height\n",
    "    x1=(x1*width)-(x2/2)\n",
    "    y1=(y1*height)-(y2/2)\n",
    "    return int(x1),int(y1),int(x1+x2),int(y1+y2)\n",
    "    \n",
    "def write_in_file(s,path):\n",
    "    pwd=os.getcwd()\n",
    "    file1 = open(pwd+path,\"a+\")#append mode \n",
    "    file1.write(s+\"\\n\")\n",
    "    file1.close() \n",
    "\n",
    "\n",
    "import glob\n",
    "import os\n",
    "import errno\n",
    "a=os.getcwd()\n",
    "path =a+ \"/coco/yolo_validation_annotaion_files/*.txt\" \n",
    "files = glob.glob(path)\n",
    "concontination=\"\"\n",
    "string=\"\"\n",
    "for name in files:\n",
    "    try:\n",
    "        split=name.split(\"/\")\n",
    "        string=\"/val2017/\"+split[7]\n",
    "        concontination+=string[0:-3]+\"jpg\"\n",
    "        #concontination+=\" \"\n",
    "        with open(name) as f:\n",
    "            for line in f:\n",
    "                if(line==\"\\n\"):\n",
    "                    break\n",
    "                concontination+=\" \"\n",
    "                data=line.split()\n",
    "                if len(data)<=4:\n",
    "                    continue\n",
    "                class_id=data[0]\n",
    "                x1=data[1]\n",
    "                y1=data[2]\n",
    "                x2=data[3]\n",
    "                y2=data[4]\n",
    "                x_min,y_min,x_max,y_max=bboxYoloToCoco(x1,y1,x2,y2,string)\n",
    "                if x_min==-1:\n",
    "                    break\n",
    "                concontination+=str(x_min)+\",\"+str(y_min)+\",\"+str(x_max)+\",\"+str(y_max)+\",\"+class_id\n",
    "            write_in_file(concontination,\"/coco/labels/val2017_annotations.txt\")\n",
    "            concontination=\"\"\n",
    "                \n",
    "    except IOError as exc: #Not sure what error this is\n",
    "        if exc.errno != errno.EISDIR:\n",
    "            raise"
   ]
  },
  {
   "cell_type": "code",
   "execution_count": 27,
   "metadata": {},
   "outputs": [],
   "source": [
    "f=open(a + \"/coco/labels/val2017_annotations.txt\",'r+')"
   ]
  },
  {
   "cell_type": "code",
   "execution_count": 30,
   "metadata": {},
   "outputs": [],
   "source": [
    "for line in f:\n",
    "    ss=line.split()\n",
    "    if len(ss)==1:\n",
    "        continue\n",
    "    file2 = open(a+\"/val2017.txt\",\"a+\")#append mode \n",
    "    file2.write(line)\n",
    "    file2.close() "
   ]
  },
  {
   "cell_type": "code",
   "execution_count": null,
   "metadata": {},
   "outputs": [],
   "source": []
  }
 ],
 "metadata": {
  "kernelspec": {
   "display_name": "Python 3",
   "language": "python",
   "name": "python3"
  },
  "language_info": {
   "codemirror_mode": {
    "name": "ipython",
    "version": 3
   },
   "file_extension": ".py",
   "mimetype": "text/x-python",
   "name": "python",
   "nbconvert_exporter": "python",
   "pygments_lexer": "ipython3",
   "version": "3.5.5"
  }
 },
 "nbformat": 4,
 "nbformat_minor": 2
}
